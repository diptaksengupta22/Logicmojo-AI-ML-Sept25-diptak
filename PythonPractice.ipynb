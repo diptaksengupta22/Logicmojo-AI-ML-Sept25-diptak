{
  "nbformat": 4,
  "nbformat_minor": 0,
  "metadata": {
    "colab": {
      "provenance": [],
      "authorship_tag": "ABX9TyNNWpOD6Ymu2HtTI5PJ9+hI",
      "include_colab_link": true
    },
    "kernelspec": {
      "name": "python3",
      "display_name": "Python 3"
    },
    "language_info": {
      "name": "python"
    }
  },
  "cells": [
    {
      "cell_type": "markdown",
      "metadata": {
        "id": "view-in-github",
        "colab_type": "text"
      },
      "source": [
        "<a href=\"https://colab.research.google.com/github/diptaksengupta22/Logicmojo-AI-ML-Sept25-diptak/blob/main/PythonPractice.ipynb\" target=\"_parent\"><img src=\"https://colab.research.google.com/assets/colab-badge.svg\" alt=\"Open In Colab\"/></a>"
      ]
    },
    {
      "cell_type": "code",
      "execution_count": null,
      "metadata": {
        "colab": {
          "base_uri": "https://localhost:8080/"
        },
        "id": "lw6T-EaREl7t",
        "outputId": "865e9f5b-113f-4522-cbcb-4bca96f0960e"
      },
      "outputs": [
        {
          "output_type": "stream",
          "name": "stdout",
          "text": [
            "        \n",
            "       *\n",
            "      ***\n",
            "     *****\n",
            "    *******\n",
            "   *********\n",
            "  ***********\n",
            " *************\n",
            "***************\n",
            " *************\n",
            "  ***********\n",
            "   *********\n",
            "    *******\n",
            "     *****\n",
            "      ***\n",
            "       *\n",
            "        \n"
          ]
        }
      ],
      "source": [
        "n = 9\n",
        "for i in range(n):\n",
        "  for j in range(n- i - 1):\n",
        "    print(' ', end = '')\n",
        "  for j in range (2 * i -1):\n",
        "    print('*', end = '')\n",
        "  print()\n",
        "\n",
        "for i in range(n-2 ,-1, -1):\n",
        "  for j in range(n -i - 1):\n",
        "    print(' ', end = '')\n",
        "  for j in range(2 * i - 1):\n",
        "    print('*', end = '')\n",
        "  print()"
      ]
    },
    {
      "cell_type": "code",
      "source": [
        "n = 6\n",
        "for i in range(n):\n",
        "  if (i == 0):\n",
        "    print('*' * (n))\n",
        "  if (i == n-1):\n",
        "    print('*' * (n), end='')\n",
        "  else:\n",
        "    print('*' + ' ' * (n-2) + '*')\n",
        "\n",
        "\n"
      ],
      "metadata": {
        "colab": {
          "base_uri": "https://localhost:8080/"
        },
        "id": "0AOn7oxkPKBG",
        "outputId": "c3c0b927-47c7-4202-b52e-fd57ad05e84d"
      },
      "execution_count": null,
      "outputs": [
        {
          "output_type": "stream",
          "name": "stdout",
          "text": [
            "******\n",
            "*    *\n",
            "*    *\n",
            "*    *\n",
            "*    *\n",
            "*    *\n",
            "******"
          ]
        }
      ]
    },
    {
      "cell_type": "code",
      "source": [
        "def delete(self, key):\n",
        "  init__ self =\n"
      ],
      "metadata": {
        "id": "N3WXuAYzxUfQ"
      },
      "execution_count": null,
      "outputs": []
    },
    {
      "cell_type": "code",
      "source": [],
      "metadata": {
        "id": "KsMq5tJKgbHu"
      },
      "execution_count": null,
      "outputs": []
    }
  ]
}